{
 "cells": [
  {
   "cell_type": "markdown",
   "id": "5e358d85-0a3b-47a6-be3e-b0c8ec40f4fb",
   "metadata": {},
   "source": [
    "## Objective : \n",
    "\n",
    "The task is to create a Python script that analyzes the records to calculate each of the following:\n",
    "\n",
    "    1. The total number of months included in the dataset.\n",
    "    2. The net total amount of Profit/Losses over the entire period.\n",
    "    3. The average of the changes in Profit/Losses over the entire period.\n",
    "    4. The greatest increase in profits (date and amount) over the entire period.\n",
    "    5. The greatest decrease in losses (date and amount) over the entire period. "
   ]
  },
  {
   "cell_type": "code",
   "execution_count": 3,
   "id": "50a96633-206d-4c8a-b764-64733b835fa0",
   "metadata": {},
   "outputs": [],
   "source": [
    "from pathlib import Path\n",
    "import csv"
   ]
  },
  {
   "cell_type": "code",
   "execution_count": 4,
   "id": "57b548c4-41a8-457a-a683-79d1fc26886f",
   "metadata": {},
   "outputs": [],
   "source": [
    "# Loading Dataset from csv File \n",
    "budget_csv = \"budget_data.csv\""
   ]
  },
  {
   "cell_type": "code",
   "execution_count": null,
   "id": "8a8e2629-fc4b-412e-9014-dfcb9004c195",
   "metadata": {},
   "outputs": [],
   "source": []
  },
  {
   "cell_type": "code",
   "execution_count": 5,
   "id": "27dd8756-75ce-4e0a-83d1-64e4c290d942",
   "metadata": {},
   "outputs": [],
   "source": [
    "# Loading Dataset from csv File \n",
    "budget_csv = \"budget_data.csv\""
   ]
  },
  {
   "cell_type": "code",
   "execution_count": 6,
   "id": "af406598-31fb-4686-ae64-157aca4f64d8",
   "metadata": {},
   "outputs": [],
   "source": [
    "## Define List variables for calculations\n",
    "\n",
    "months = []\n",
    "profitloss = []\n",
    "avg_change = []"
   ]
  },
  {
   "cell_type": "code",
   "execution_count": 7,
   "id": "d660aec0-ade9-499b-a4a7-64b5b8c4da43",
   "metadata": {},
   "outputs": [],
   "source": [
    "# Open and read csv file \n",
    "with open(budget_csv) as budget_data:\n",
    "    budget_data = csv.reader(budget_data, delimiter=\",\") ## using ',' delimiter \n",
    "    budget_header = next(budget_data) ## used \"next\" to skip csv header\n",
    "\n",
    "    #For loop started to read each row from csv\n",
    "    for rows in budget_data:\n",
    "        ## Add total no. of months in dataset\n",
    "        months.append(rows[0]) \n",
    "        # Calculate total length of months\n",
    "        total_months = len(months)\n",
    "        \n",
    "        # Calculate total Profit/Loss over the enire time period\n",
    "        profitloss.append(int(rows[1])) \n",
    "        \n",
    "    # Calculate average Change Profit/Losses over the entire period\n",
    "    for x in range(1, len(profitloss)):\n",
    "        avg_change.append((int(profitloss[x]) - int(profitloss[x-1])))\n",
    "\n",
    "    # Calculate greatest increase in profit (date and amount) over the entire period\n",
    "    greatest_increase_date = months[avg_change.index(max(avg_change))+1]\n",
    "    greatest_increase_amt  = max(avg_change)\n",
    "    \n",
    "    # Calculate greatest decrease in losses (date and amount) over the entire period\n",
    "    greatest_decrease_date = months[avg_change.index(min(avg_change))+1]\n",
    "    greatest_decrease_amt  = min(avg_change)"
   ]
  },
  {
   "cell_type": "markdown",
   "id": "ddc86921-1cda-4dfc-bda8-80afad8c80f8",
   "metadata": {},
   "source": [
    "# Financial Analysis\n"
   ]
  },
  {
   "cell_type": "markdown",
   "id": "23c3d409-b2db-47e0-8204-f930c9236e67",
   "metadata": {},
   "source": [
    "#### 1. Total Number of Months in dataset"
   ]
  },
  {
   "cell_type": "code",
   "execution_count": 8,
   "id": "d0f885ea-86c8-476e-91fc-d308807e0580",
   "metadata": {},
   "outputs": [
    {
     "name": "stdout",
     "output_type": "stream",
     "text": [
      "Total Months: 86\n"
     ]
    }
   ],
   "source": [
    "print(\"Total Months: \" + str(total_months))"
   ]
  },
  {
   "cell_type": "markdown",
   "id": "a6c4db42-39b8-4491-8088-507001038cdb",
   "metadata": {},
   "source": [
    "#### 2. The net total amount of Profit/Losses over the entire period"
   ]
  },
  {
   "cell_type": "code",
   "execution_count": 9,
   "id": "2720bb81-2127-4d44-9840-51cc016c5e55",
   "metadata": {},
   "outputs": [
    {
     "name": "stdout",
     "output_type": "stream",
     "text": [
      "Total: $38382578\n"
     ]
    }
   ],
   "source": [
    "print(\"Total: \" + \"$\"+str(sum(profitloss)))"
   ]
  },
  {
   "cell_type": "markdown",
   "id": "c3396f5b-0273-4938-8a94-f036f18f8da4",
   "metadata": {},
   "source": [
    "#### 3. The average of the changes in Profit/Losses over the entire period"
   ]
  },
  {
   "cell_type": "code",
   "execution_count": 10,
   "id": "0c5ddf7c-c7d0-4d78-bda6-9980159a76a1",
   "metadata": {},
   "outputs": [
    {
     "name": "stdout",
     "output_type": "stream",
     "text": [
      "Average  Change: $-2315.12\n"
     ]
    }
   ],
   "source": [
    "print(\"Average  Change: \" + \"$\"\"{:.2f}\".format(sum(avg_change) / len(avg_change)))"
   ]
  },
  {
   "cell_type": "markdown",
   "id": "114cadde-873c-4e12-92c3-4ef26df1e9b6",
   "metadata": {},
   "source": [
    "#### 4. The greatest increase in profits (date and amount) over the entire period"
   ]
  },
  {
   "cell_type": "code",
   "execution_count": 11,
   "id": "430baa05-4f4d-419c-b42d-9baafebcd7f9",
   "metadata": {},
   "outputs": [
    {
     "name": "stdout",
     "output_type": "stream",
     "text": [
      "Greatest Increase in Profits: Feb-2012 ($1926159)\n"
     ]
    }
   ],
   "source": [
    "print(\"Greatest Increase in Profits: \" + str(greatest_increase_date) + \" \" + \"(\"\"$\" + str(greatest_increase_amt)+\")\")"
   ]
  },
  {
   "cell_type": "markdown",
   "id": "3f59e859-5576-4625-b64c-a3c3f558b51e",
   "metadata": {},
   "source": [
    "#### 5. The greatest decrease in losses (date and amount) over the entire period"
   ]
  },
  {
   "cell_type": "code",
   "execution_count": 12,
   "id": "80472194-64ae-4987-a866-079374b0d8f9",
   "metadata": {},
   "outputs": [
    {
     "name": "stdout",
     "output_type": "stream",
     "text": [
      "Greatest Decrease in Profits: Sep-2013 ($-2196167)\n"
     ]
    }
   ],
   "source": [
    "print(\"Greatest Decrease in Profits: \" + str(greatest_decrease_date) + \" \" + \"(\"\"$\" + str(greatest_decrease_amt)+\")\")"
   ]
  },
  {
   "cell_type": "markdown",
   "id": "6432ae9e-17f1-4f77-9bc0-9c263e540403",
   "metadata": {},
   "source": [
    "## Output"
   ]
  },
  {
   "cell_type": "code",
   "execution_count": 31,
   "id": "873b1229-190a-441a-979a-da54bddb3c65",
   "metadata": {},
   "outputs": [
    {
     "name": "stdout",
     "output_type": "stream",
     "text": [
      "Financial Analysis\n",
      "----------------------------------------------\n",
      "Total Months: 86\n",
      "Total: $38382578\n",
      "Average  Change: $-2315.12\n",
      "Greatest Increase in Profits: Feb-2012 ($1926159)\n",
      "Greatest Decrease in Profits: Sep-2013 ($-2196167)\n"
     ]
    }
   ],
   "source": [
    "# Open the file in \"read\" mode ('r') and store the\n",
    "# contents in the variable \"text\"\n",
    "\n",
    "# Print out Financial Analysis\n",
    "\n",
    "print(\"Financial Analysis\")\n",
    "print(\"----------------------------------------------\")\n",
    "print(\"Total Months: \" + str(total_months))\n",
    "print(\"Total: \" + \"$\"+ str(sum(profitloss)))\n",
    "print(\"Average Change: \" + \"$\"\"{:.2f}\".format(sum(avg_change) / len(avg_change)))\n",
    "print(\"Greatest Increase in Profits: \" + str(greatest_increase_date) + \" \" + \"(\"\"$\" + str(greatest_increase_amt)+\")\")\n",
    "print(\"Greatest Decrease in Profits: \" + str(greatest_decrease_date) + \" \" + \"(\"\"$\" + str(greatest_decrease_amt)+\")\")\n",
    "\n",
    "\n",
    "# Set output file name\n",
    "output_path = 'budget_output.txt'"
   ]
  },
  {
   "cell_type": "code",
   "execution_count": 48,
   "id": "d4c1f27e-43cc-4eb6-beab-82d54509f9b3",
   "metadata": {},
   "outputs": [
    {
     "ename": "SyntaxError",
     "evalue": "invalid syntax (Temp/ipykernel_16776/4138121916.py, line 6)",
     "output_type": "error",
     "traceback": [
      "\u001b[1;36m  File \u001b[1;32m\"C:\\Users\\parvi\\AppData\\Local\\Temp/ipykernel_16776/4138121916.py\"\u001b[1;36m, line \u001b[1;32m6\u001b[0m\n\u001b[1;33m    file.write(f\"Total Months: \"{str(total_months)}\")\u001b[0m\n\u001b[1;37m                                ^\u001b[0m\n\u001b[1;31mSyntaxError\u001b[0m\u001b[1;31m:\u001b[0m invalid syntax\n"
     ]
    }
   ],
   "source": [
    "# Open the output path as a file object\n",
    "with open(output_path, 'w') as file:\n",
    "    # Write daily_average to the output file, convert to string\n",
    "    file.write(f\"Financial Analysis:\")\n",
    "    file.write(f\"---------------------\")\n",
    "    file.write(f\"Total Months: \"{str(total_months)}\")\n",
    "    file.write(f\"Total profit: {str(sum(profitloss))}\")"
   ]
  },
  {
   "cell_type": "markdown",
   "id": "83283851-6641-48c7-aa8a-e22f8542f206",
   "metadata": {},
   "source": []
  },
  {
   "cell_type": "markdown",
   "id": "348d6d94-31cc-4f61-b6d9-e67ecfba0c83",
   "metadata": {},
   "source": [
    "## Misc"
   ]
  },
  {
   "cell_type": "code",
   "execution_count": 13,
   "id": "043fbffa-2020-47f9-adcd-ecccab006b16",
   "metadata": {},
   "outputs": [
    {
     "name": "stdout",
     "output_type": "stream",
     "text": [
      "Current Working Directory: C:\\Users\\parvi\\OneDrive\\2. Blockchain\\FinTech\\Assignments\\Week2\\python-homework\\Pybank\n"
     ]
    }
   ],
   "source": [
    "print(f\"Current Working Directory: {Path.cwd()}\")"
   ]
  },
  {
   "cell_type": "code",
   "execution_count": 14,
   "id": "603331ca-bd77-48e1-8e44-4427ec6a5eb1",
   "metadata": {},
   "outputs": [
    {
     "name": "stdout",
     "output_type": "stream",
     "text": [
      "Date,Profit/Losses\n",
      "Jan-2010,867884\n",
      "Feb-2010,984655\n",
      "Mar-2010,322013\n",
      "Apr-2010,-69417\n",
      "May-2010,310503\n",
      "Jun-2010,522857\n",
      "Jul-2010,1033096\n",
      "Aug-2010,604885\n",
      "Sep-2010,-216386\n",
      "Oct-2010,477532\n",
      "Nov-2010,893810\n",
      "Dec-2010,-80353\n",
      "Jan-2011,779806\n",
      "Feb-2011,-335203\n",
      "Mar-2011,697845\n",
      "Apr-2011,793163\n",
      "May-2011,485070\n",
      "Jun-2011,584122\n",
      "Jul-2011,62729\n",
      "Aug-2011,668179\n",
      "Sep-2011,899906\n",
      "Oct-2011,834719\n",
      "Nov-2011,132003\n",
      "Dec-2011,309978\n",
      "Jan-2012,-755566\n",
      "Feb-2012,1170593\n",
      "Mar-2012,252788\n",
      "Apr-2012,1151518\n",
      "May-2012,817256\n",
      "Jun-2012,570757\n",
      "Jul-2012,506702\n",
      "Aug-2012,-1022534\n",
      "Sep-2012,475062\n",
      "Oct-2012,779976\n",
      "Nov-2012,144175\n",
      "Dec-2012,542494\n",
      "Jan-2013,359333\n",
      "Feb-2013,321469\n",
      "Mar-2013,67780\n",
      "Apr-2013,471435\n",
      "May-2013,565603\n",
      "Jun-2013,872480\n",
      "Jul-2013,789480\n",
      "Aug-2013,999942\n",
      "Sep-2013,-1196225\n",
      "Oct-2013,268997\n",
      "Nov-2013,-687986\n",
      "Dec-2013,1150461\n",
      "Jan-2014,682458\n",
      "Feb-2014,617856\n",
      "Mar-2014,824098\n",
      "Apr-2014,581943\n",
      "May-2014,132864\n",
      "Jun-2014,448062\n",
      "Jul-2014,689161\n",
      "Aug-2014,800701\n",
      "Sep-2014,1166643\n",
      "Oct-2014,947333\n",
      "Nov-2014,578668\n",
      "Dec-2014,988505\n",
      "Jan-2015,1139715\n",
      "Feb-2015,1029471\n",
      "Mar-2015,687533\n",
      "Apr-2015,-524626\n",
      "May-2015,158620\n",
      "Jun-2015,87795\n",
      "Jul-2015,423389\n",
      "Aug-2015,840723\n",
      "Sep-2015,568529\n",
      "Oct-2015,332067\n",
      "Nov-2015,989499\n",
      "Dec-2015,778237\n",
      "Jan-2016,650000\n",
      "Feb-2016,-1100387\n",
      "Mar-2016,-174946\n",
      "Apr-2016,757143\n",
      "May-2016,445709\n",
      "Jun-2016,712961\n",
      "Jul-2016,-1163797\n",
      "Aug-2016,569899\n",
      "Sep-2016,768450\n",
      "Oct-2016,102685\n",
      "Nov-2016,795914\n",
      "Dec-2016,60988\n",
      "Jan-2017,138230\n",
      "Feb-2017,671099\n",
      "\n"
     ]
    }
   ],
   "source": [
    "# reading dataset\n",
    "f = open(\"budget_data.csv\", \"r\")\n",
    "print(f.read())"
   ]
  },
  {
   "cell_type": "code",
   "execution_count": null,
   "id": "8abfc05d-6d7f-4f2a-9b5e-74f60fe921a2",
   "metadata": {},
   "outputs": [],
   "source": []
  }
 ],
 "metadata": {
  "kernelspec": {
   "display_name": "Python 3 (ipykernel)",
   "language": "python",
   "name": "python3"
  },
  "language_info": {
   "codemirror_mode": {
    "name": "ipython",
    "version": 3
   },
   "file_extension": ".py",
   "mimetype": "text/x-python",
   "name": "python",
   "nbconvert_exporter": "python",
   "pygments_lexer": "ipython3",
   "version": "3.9.7"
  }
 },
 "nbformat": 4,
 "nbformat_minor": 5
}
